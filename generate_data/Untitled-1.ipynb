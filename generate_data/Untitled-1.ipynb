{
 "cells": [
  {
   "cell_type": "code",
   "execution_count": 54,
   "metadata": {},
   "outputs": [],
   "source": [
    "from __future__ import annotations\n",
    "\n",
    "from pydantic import TypeAdapter\n",
    "from functools import lru_cache\n",
    "\n",
    "import requests\n",
    "\n",
    "@lru_cache(maxsize=1)\n",
    "def fetch_api_pokemons() -> dict[str, ApiPokemon]:\n",
    "    ret = requests.get(\"https://pokemon-go-api.github.io/pokemon-go-api/api/pokedex.json\")\n",
    "    return ret.json()"
   ]
  },
  {
   "cell_type": "code",
   "execution_count": 92,
   "metadata": {},
   "outputs": [],
   "source": [
    "from functools import lru_cache\n",
    "from pydantic import BaseModel, Field, HttpUrl\n",
    "from inflection import camelize\n",
    "\n",
    "from typing import Any\n",
    "\n",
    "class MyBaseModel(BaseModel):\n",
    "    class Config:\n",
    "        alias_generator = lambda x: camelize(x, uppercase_first_letter=False)\n",
    "\n",
    "\n",
    "class ApiLangString(MyBaseModel):\n",
    "    German: str = Field(alias=\"German\")\n",
    "    French: str = Field(alias=\"French\")\n",
    "    Italian: str = Field(alias=\"Italian\")\n",
    "    Japanese: str = Field(alias=\"Japanese\")\n",
    "    Korean: str = Field(alias=\"Korean\")\n",
    "    Spanish: str = Field(alias=\"Spanish\")\n",
    "    English: str = Field(alias=\"English\")\n",
    "\n",
    "\n",
    "class ApiAssets(MyBaseModel):\n",
    "    image: str\n",
    "    shiny_image: str\n",
    "\n",
    "\n",
    "class ApiType(MyBaseModel):\n",
    "    type: str\n",
    "    names: ApiLangString\n",
    "\n",
    "\n",
    "class ApiStats(MyBaseModel):\n",
    "    stamina: int\n",
    "    attack: int\n",
    "    defense: int\n",
    "\n",
    "\n",
    "class ApiEvolution(MyBaseModel):\n",
    "    id: str\n",
    "    form_id: str\n",
    "    candies: int\n",
    "    item: dict | None\n",
    "    quests: list[dict]\n",
    "\n",
    "class ApiForm(MyBaseModel):\n",
    "    form: str\n",
    "    costume: bool\n",
    "    isFemale: bool\n",
    "    image: HttpUrl\n",
    "    shinyImage: HttpUrl\n",
    "\n",
    "\n",
    "class ApiPokemon(MyBaseModel):\n",
    "    id: str\n",
    "    form_id: str\n",
    "    dex_nr: int\n",
    "    generation: int\n",
    "    names: ApiLangString\n",
    "    stats: ApiStats | None\n",
    "    primary_type: ApiType\n",
    "    secondary_type: ApiType | None\n",
    "    pokemon_class: str | None\n",
    "    assets: ApiAssets | None\n",
    "    asset_forms: dict[str, ApiPokemon] | list[None]\n",
    "    region_forms:  dict[str, ApiPokemon] | list[None]\n",
    "    evolutions: list[ApiEvolution]\n"
   ]
  },
  {
   "cell_type": "code",
   "execution_count": 93,
   "metadata": {},
   "outputs": [],
   "source": [
    "data = fetch_api_pokemons()"
   ]
  },
  {
   "cell_type": "code",
   "execution_count": 97,
   "metadata": {},
   "outputs": [
    {
     "data": {
      "text/plain": [
       "[{'form': 'ALOLA',\n",
       "  'costume': None,\n",
       "  'isFemale': False,\n",
       "  'image': 'https://raw.githubusercontent.com/PokeMiners/pogo_assets/master/Images/Pokemon/Addressable%20Assets/pm19.fALOLA.icon.png',\n",
       "  'shinyImage': 'https://raw.githubusercontent.com/PokeMiners/pogo_assets/master/Images/Pokemon/Addressable%20Assets/pm19.fALOLA.s.icon.png'},\n",
       " {'form': None,\n",
       "  'costume': None,\n",
       "  'isFemale': True,\n",
       "  'image': 'https://raw.githubusercontent.com/PokeMiners/pogo_assets/master/Images/Pokemon/Addressable%20Assets/pm19.g2.icon.png',\n",
       "  'shinyImage': 'https://raw.githubusercontent.com/PokeMiners/pogo_assets/master/Images/Pokemon/Addressable%20Assets/pm19.g2.s.icon.png'},\n",
       " {'form': None,\n",
       "  'costume': None,\n",
       "  'isFemale': False,\n",
       "  'image': 'https://raw.githubusercontent.com/PokeMiners/pogo_assets/master/Images/Pokemon/Addressable%20Assets/pm19.icon.png',\n",
       "  'shinyImage': 'https://raw.githubusercontent.com/PokeMiners/pogo_assets/master/Images/Pokemon/Addressable%20Assets/pm19.s.icon.png'},\n",
       " {'form': None,\n",
       "  'costume': None,\n",
       "  'isFemale': False,\n",
       "  'image': 'https://raw.githubusercontent.com/PokeMiners/pogo_assets/master/Images/Pokemon/pokemon_icon_019_00.png',\n",
       "  'shinyImage': 'https://raw.githubusercontent.com/PokeMiners/pogo_assets/master/Images/Pokemon/pokemon_icon_019_00_shiny.png'},\n",
       " {'form': None,\n",
       "  'costume': None,\n",
       "  'isFemale': True,\n",
       "  'image': 'https://raw.githubusercontent.com/PokeMiners/pogo_assets/master/Images/Pokemon/pokemon_icon_019_01.png',\n",
       "  'shinyImage': 'https://raw.githubusercontent.com/PokeMiners/pogo_assets/master/Images/Pokemon/pokemon_icon_019_01_shiny.png'}]"
      ]
     },
     "execution_count": 97,
     "metadata": {},
     "output_type": "execute_result"
    }
   ],
   "source": [
    "data[18][\"assetForms\"]"
   ]
  },
  {
   "cell_type": "code",
   "execution_count": 95,
   "metadata": {},
   "outputs": [
    {
     "ename": "ValidationError",
     "evalue": "8 validation errors for ApiPokemon\nassetForms.`dict[str,...]`\n  Input should be a valid dictionary [type=dict_type, input_value=[{'form': 'ALOLA', 'costu...icon_019_01_shiny.png'}], input_type=list]\n    For further information visit https://errors.pydantic.dev/2.5/v/dict_type\nassetForms.list[none].0\n  Input should be None [type=none_required, input_value={'form': 'ALOLA', 'costum...pm19.fALOLA.s.icon.png'}, input_type=dict]\n    For further information visit https://errors.pydantic.dev/2.5/v/none_required\nassetForms.list[none].1\n  Input should be None [type=none_required, input_value={'form': None, 'costume':...ets/pm19.g2.s.icon.png'}, input_type=dict]\n    For further information visit https://errors.pydantic.dev/2.5/v/none_required\nassetForms.list[none].2\n  Input should be None [type=none_required, input_value={'form': None, 'costume':...Assets/pm19.s.icon.png'}, input_type=dict]\n    For further information visit https://errors.pydantic.dev/2.5/v/none_required\nassetForms.list[none].3\n  Input should be None [type=none_required, input_value={'form': None, 'costume':..._icon_019_00_shiny.png'}, input_type=dict]\n    For further information visit https://errors.pydantic.dev/2.5/v/none_required\nassetForms.list[none].4\n  Input should be None [type=none_required, input_value={'form': None, 'costume':..._icon_019_01_shiny.png'}, input_type=dict]\n    For further information visit https://errors.pydantic.dev/2.5/v/none_required\nregionForms.`dict[str,...]`.RATTATA_ALOLA.assetForms\n  Field required [type=missing, input_value={'id': 'RATTATA', 'formId...e, 'megaEvolutions': []}, input_type=dict]\n    For further information visit https://errors.pydantic.dev/2.5/v/missing\nregionForms.list[none]\n  Input should be a valid list [type=list_type, input_value={'RATTATA_ALOLA': {'id': ..., 'megaEvolutions': []}}, input_type=dict]\n    For further information visit https://errors.pydantic.dev/2.5/v/list_type",
     "output_type": "error",
     "traceback": [
      "\u001b[0;31m---------------------------------------------------------------------------\u001b[0m",
      "\u001b[0;31mValidationError\u001b[0m                           Traceback (most recent call last)",
      "\u001b[1;32m/home/simamumu/dev/pokemon-go-index/generate_data/Untitled-1.ipynb Cell 4\u001b[0m line \u001b[0;36m5\n\u001b[1;32m      <a href='vscode-notebook-cell://wsl%2Bubuntu/home/simamumu/dev/pokemon-go-index/generate_data/Untitled-1.ipynb#W5sdnNjb2RlLXJlbW90ZQ%3D%3D?line=0'>1</a>\u001b[0m v \u001b[39m=\u001b[39m TypeAdapter(ApiPokemon)\n\u001b[1;32m      <a href='vscode-notebook-cell://wsl%2Bubuntu/home/simamumu/dev/pokemon-go-index/generate_data/Untitled-1.ipynb#W5sdnNjb2RlLXJlbW90ZQ%3D%3D?line=2'>3</a>\u001b[0m \u001b[39m# for i, d in enumerate(data):\u001b[39;00m\n\u001b[1;32m      <a href='vscode-notebook-cell://wsl%2Bubuntu/home/simamumu/dev/pokemon-go-index/generate_data/Untitled-1.ipynb#W5sdnNjb2RlLXJlbW90ZQ%3D%3D?line=3'>4</a>\u001b[0m \u001b[39m#     print(i)\u001b[39;00m\n\u001b[0;32m----> <a href='vscode-notebook-cell://wsl%2Bubuntu/home/simamumu/dev/pokemon-go-index/generate_data/Untitled-1.ipynb#W5sdnNjb2RlLXJlbW90ZQ%3D%3D?line=4'>5</a>\u001b[0m p \u001b[39m=\u001b[39m v\u001b[39m.\u001b[39;49mvalidate_python(data[\u001b[39m18\u001b[39;49m])\n",
      "File \u001b[0;32m~/.cache/pypoetry/virtualenvs/my-pokedex-9xUeRFDs-py3.11/lib/python3.11/site-packages/pydantic/type_adapter.py:239\u001b[0m, in \u001b[0;36mTypeAdapter.validate_python\u001b[0;34m(self, _TypeAdapter__object, strict, from_attributes, context)\u001b[0m\n\u001b[1;32m    216\u001b[0m \u001b[39mdef\u001b[39;00m \u001b[39mvalidate_python\u001b[39m(\n\u001b[1;32m    217\u001b[0m     \u001b[39mself\u001b[39m,\n\u001b[1;32m    218\u001b[0m     __object: Any,\n\u001b[0;32m   (...)\u001b[0m\n\u001b[1;32m    222\u001b[0m     context: \u001b[39mdict\u001b[39m[\u001b[39mstr\u001b[39m, Any] \u001b[39m|\u001b[39m \u001b[39mNone\u001b[39;00m \u001b[39m=\u001b[39m \u001b[39mNone\u001b[39;00m,\n\u001b[1;32m    223\u001b[0m ) \u001b[39m-\u001b[39m\u001b[39m>\u001b[39m T:\n\u001b[1;32m    224\u001b[0m \u001b[39m    \u001b[39m\u001b[39m\"\"\"Validate a Python object against the model.\u001b[39;00m\n\u001b[1;32m    225\u001b[0m \n\u001b[1;32m    226\u001b[0m \u001b[39m    Args:\u001b[39;00m\n\u001b[0;32m   (...)\u001b[0m\n\u001b[1;32m    237\u001b[0m \u001b[39m        The validated object.\u001b[39;00m\n\u001b[1;32m    238\u001b[0m \u001b[39m    \"\"\"\u001b[39;00m\n\u001b[0;32m--> 239\u001b[0m     \u001b[39mreturn\u001b[39;00m \u001b[39mself\u001b[39;49m\u001b[39m.\u001b[39;49mvalidator\u001b[39m.\u001b[39;49mvalidate_python(__object, strict\u001b[39m=\u001b[39;49mstrict, from_attributes\u001b[39m=\u001b[39;49mfrom_attributes, context\u001b[39m=\u001b[39;49mcontext)\n",
      "\u001b[0;31mValidationError\u001b[0m: 8 validation errors for ApiPokemon\nassetForms.`dict[str,...]`\n  Input should be a valid dictionary [type=dict_type, input_value=[{'form': 'ALOLA', 'costu...icon_019_01_shiny.png'}], input_type=list]\n    For further information visit https://errors.pydantic.dev/2.5/v/dict_type\nassetForms.list[none].0\n  Input should be None [type=none_required, input_value={'form': 'ALOLA', 'costum...pm19.fALOLA.s.icon.png'}, input_type=dict]\n    For further information visit https://errors.pydantic.dev/2.5/v/none_required\nassetForms.list[none].1\n  Input should be None [type=none_required, input_value={'form': None, 'costume':...ets/pm19.g2.s.icon.png'}, input_type=dict]\n    For further information visit https://errors.pydantic.dev/2.5/v/none_required\nassetForms.list[none].2\n  Input should be None [type=none_required, input_value={'form': None, 'costume':...Assets/pm19.s.icon.png'}, input_type=dict]\n    For further information visit https://errors.pydantic.dev/2.5/v/none_required\nassetForms.list[none].3\n  Input should be None [type=none_required, input_value={'form': None, 'costume':..._icon_019_00_shiny.png'}, input_type=dict]\n    For further information visit https://errors.pydantic.dev/2.5/v/none_required\nassetForms.list[none].4\n  Input should be None [type=none_required, input_value={'form': None, 'costume':..._icon_019_01_shiny.png'}, input_type=dict]\n    For further information visit https://errors.pydantic.dev/2.5/v/none_required\nregionForms.`dict[str,...]`.RATTATA_ALOLA.assetForms\n  Field required [type=missing, input_value={'id': 'RATTATA', 'formId...e, 'megaEvolutions': []}, input_type=dict]\n    For further information visit https://errors.pydantic.dev/2.5/v/missing\nregionForms.list[none]\n  Input should be a valid list [type=list_type, input_value={'RATTATA_ALOLA': {'id': ..., 'megaEvolutions': []}}, input_type=dict]\n    For further information visit https://errors.pydantic.dev/2.5/v/list_type"
     ]
    }
   ],
   "source": [
    "v = TypeAdapter(ApiPokemon)\n",
    "\n",
    "# for i, d in enumerate(data):\n",
    "#     print(i)\n",
    "p = v.validate_python(data[18])"
   ]
  },
  {
   "cell_type": "code",
   "execution_count": 69,
   "metadata": {},
   "outputs": [
    {
     "data": {
      "text/plain": [
       "Voice(name='Filiz', language_code='tr-TR')"
      ]
     },
     "execution_count": 69,
     "metadata": {},
     "output_type": "execute_result"
    }
   ],
   "source": [
    "from pydantic import BaseModel\n",
    "from inflection import camelize\n",
    "\n",
    "\n",
    "class Voice(BaseModel):\n",
    "    name: str\n",
    "    language_code: str\n",
    "\n",
    "    class Config:\n",
    "        alias_generator = camelize\n",
    "\n",
    "v = TypeAdapter(Voice)\n",
    "v.validate_python({'Name': 'Filiz', 'LanguageCode': 'tr-TR'})"
   ]
  },
  {
   "cell_type": "code",
   "execution_count": null,
   "metadata": {},
   "outputs": [],
   "source": []
  }
 ],
 "metadata": {
  "kernelspec": {
   "display_name": "my-pokedex-9xUeRFDs-py3.11",
   "language": "python",
   "name": "python3"
  },
  "language_info": {
   "codemirror_mode": {
    "name": "ipython",
    "version": 3
   },
   "file_extension": ".py",
   "mimetype": "text/x-python",
   "name": "python",
   "nbconvert_exporter": "python",
   "pygments_lexer": "ipython3",
   "version": "3.11.6"
  }
 },
 "nbformat": 4,
 "nbformat_minor": 2
}
