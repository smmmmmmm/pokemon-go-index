{
 "cells": [
  {
   "cell_type": "code",
   "execution_count": 1,
   "metadata": {},
   "outputs": [],
   "source": [
    "from __future__ import annotations\n",
    "import requests\n",
    "from pydantic import TypeAdapter\n",
    "from src.main import fetch_api_pokemons, fetch_firestore_pokemons\n",
    "from src.models import ApiPokemon, Pokemon"
   ]
  },
  {
   "cell_type": "code",
   "execution_count": 2,
   "metadata": {},
   "outputs": [],
   "source": [
    "raw_api_pokemons = fetch_api_pokemons()"
   ]
  },
  {
   "cell_type": "code",
   "execution_count": 3,
   "metadata": {},
   "outputs": [],
   "source": [
    "api_pokemons = {\n",
    "    pokemon_id: Pokemon.from_api_pokemon(api_pokemon) for pokemon_id, api_pokemon in raw_api_pokemons.items()\n",
    "}"
   ]
  },
  {
   "cell_type": "code",
   "execution_count": 4,
   "metadata": {},
   "outputs": [],
   "source": [
    "for pokemon_id, api_pokemon in api_pokemons.items():\n",
    "    for ev_id in api_pokemon.next_evolve_api_ids:\n",
    "        api_pokemons[ev_id].add_prev_evolve_ids(pokemon_id)"
   ]
  },
  {
   "cell_type": "code",
   "execution_count": null,
   "metadata": {},
   "outputs": [],
   "source": []
  },
  {
   "cell_type": "code",
   "execution_count": 5,
   "metadata": {},
   "outputs": [],
   "source": [
    "current_firestore_pokemons = fetch_firestore_pokemons()"
   ]
  },
  {
   "cell_type": "code",
   "execution_count": 6,
   "metadata": {},
   "outputs": [
    {
     "name": "stdout",
     "output_type": "stream",
     "text": [
      "update FARFETCHD\n",
      "update MR_MIME\n",
      "update WOOPER\n",
      "update QWILFISH\n",
      "update SNEASEL\n",
      "update LINOONE\n",
      "update CHERUBI\n",
      "update CHERRIM\n",
      "update YAMASK\n",
      "update DEERLING\n",
      "update SAWSBUCK\n",
      "update LITLEO\n",
      "update PYROAR\n",
      "update ESPURR\n",
      "update MEOWSTIC\n",
      "update ROCKRUFF\n",
      "update LYCANROC\n",
      "update TOXEL\n",
      "update TOXTRICITY\n",
      "update OBSTAGOON\n",
      "update PERRSERKER\n",
      "update SIRFETCHD\n",
      "update MR_RIME\n",
      "update RUNERIGUS\n",
      "update KUBFU\n",
      "update URSHIFU\n",
      "create WYRDEER\n",
      "update SNEASLER\n",
      "update OVERQWIL\n",
      "update LECHONK\n",
      "update OINKOLOGNE\n",
      "update TANDEMAUS\n",
      "update MAUSHOLD\n",
      "update CLODSIRE\n"
     ]
    }
   ],
   "source": [
    "new_firestore_pokemons = dict()\n",
    "\n",
    "\n",
    "for pokemin_id, api_pokemon in api_pokemons.items():\n",
    "    current_pokemon = current_firestore_pokemons.get(pokemin_id)\n",
    "\n",
    "    if current_pokemon is None:\n",
    "        # firestore に存在しないポケモンは作成\n",
    "        print(f'create {pokemin_id}')\n",
    "        new_firestore_pokemons[pokemin_id] = api_pokemon\n",
    "    else:\n",
    "        # firestore に存在し、差分があるポケモンは更新する\n",
    "        if current_pokemon.is_updated(api_pokemon):\n",
    "            print(f'update {pokemin_id}')\n",
    "            new_firestore_pokemons[pokemin_id] = api_pokemon\n",
    "            new_firestore_pokemons[pokemin_id].exist = current_pokemon.exist\n",
    "            new_firestore_pokemons[pokemin_id].exist_shadow = current_pokemon.exist_shadow\n",
    "            new_firestore_pokemons[pokemin_id].exist_shiny = current_pokemon.exist_shiny\n"
   ]
  },
  {
   "cell_type": "code",
   "execution_count": 15,
   "metadata": {},
   "outputs": [
    {
     "data": {
      "text/plain": [
       "{'pokemon_id': 'MEOWTH',\n",
       " 'name': 'ニャース',\n",
       " 'dex_no': 52,\n",
       " 'form': 'NORMAL',\n",
       " 'generation': 1,\n",
       " 'exist': False,\n",
       " 'exist_shiny': False,\n",
       " 'exist_shadow': False,\n",
       " 'primary_type': 'POKEMON_TYPE_NORMAL',\n",
       " 'secondary_type': None,\n",
       " 'pokemon_class': None,\n",
       " 'status': {'stamina': 120, 'attack': 92, 'defense': 78},\n",
       " 'prev_evolve_api_ids': [],\n",
       " 'next_evolve_api_ids': ['PERSIAN', 'PERRSERKER']}"
      ]
     },
     "execution_count": 15,
     "metadata": {},
     "output_type": "execute_result"
    }
   ],
   "source": [
    "current_pokemon.model_dump()"
   ]
  },
  {
   "cell_type": "code",
   "execution_count": 17,
   "metadata": {},
   "outputs": [
    {
     "data": {
      "text/plain": [
       "{'pokemon_id': 'MEOWTH',\n",
       " 'name': 'ニャース',\n",
       " 'dex_no': 52,\n",
       " 'form': 'NORMAL',\n",
       " 'generation': 1,\n",
       " 'exist': False,\n",
       " 'exist_shiny': False,\n",
       " 'exist_shadow': False,\n",
       " 'primary_type': 'POKEMON_TYPE_NORMAL',\n",
       " 'secondary_type': None,\n",
       " 'pokemon_class': None,\n",
       " 'status': {'stamina': 120, 'attack': 92, 'defense': 78},\n",
       " 'prev_evolve_api_ids': [],\n",
       " 'next_evolve_api_ids': ['PERRSERKER', 'PERSIAN']}"
      ]
     },
     "execution_count": 17,
     "metadata": {},
     "output_type": "execute_result"
    }
   ],
   "source": [
    "api_pokemon.model_dump()"
   ]
  },
  {
   "cell_type": "code",
   "execution_count": 18,
   "metadata": {},
   "outputs": [],
   "source": [
    "from src.main import db"
   ]
  },
  {
   "cell_type": "code",
   "execution_count": 19,
   "metadata": {},
   "outputs": [],
   "source": [
    "for pokemon_id, pokemon in new_firestore_pokemons.items():\n",
    "    db.collection('pokemons').document(pokemon_id).set(pokemon.model_dump(by_alias=True))\n",
    "    break"
   ]
  },
  {
   "cell_type": "code",
   "execution_count": null,
   "metadata": {},
   "outputs": [],
   "source": []
  }
 ],
 "metadata": {
  "kernelspec": {
   "display_name": "my-pokedex-9xUeRFDs-py3.11",
   "language": "python",
   "name": "python3"
  },
  "language_info": {
   "codemirror_mode": {
    "name": "ipython",
    "version": 3
   },
   "file_extension": ".py",
   "mimetype": "text/x-python",
   "name": "python",
   "nbconvert_exporter": "python",
   "pygments_lexer": "ipython3",
   "version": "3.11.6"
  }
 },
 "nbformat": 4,
 "nbformat_minor": 2
}
